{
 "cells": [
  {
   "cell_type": "code",
   "execution_count": 1,
   "id": "897723f9",
   "metadata": {},
   "outputs": [
    {
     "data": {
      "text/html": [
       "<div>\n",
       "<style scoped>\n",
       "    .dataframe tbody tr th:only-of-type {\n",
       "        vertical-align: middle;\n",
       "    }\n",
       "\n",
       "    .dataframe tbody tr th {\n",
       "        vertical-align: top;\n",
       "    }\n",
       "\n",
       "    .dataframe thead th {\n",
       "        text-align: right;\n",
       "    }\n",
       "</style>\n",
       "<table border=\"1\" class=\"dataframe\">\n",
       "  <thead>\n",
       "    <tr style=\"text-align: right;\">\n",
       "      <th></th>\n",
       "      <th>rid</th>\n",
       "      <th>stars</th>\n",
       "      <th>date</th>\n",
       "      <th>text</th>\n",
       "    </tr>\n",
       "  </thead>\n",
       "  <tbody>\n",
       "    <tr>\n",
       "      <th>0</th>\n",
       "      <td>1423270</td>\n",
       "      <td>2</td>\n",
       "      <td>2012-05-29</td>\n",
       "      <td>We tried to go to Blue Owl's soft opening, but...</td>\n",
       "    </tr>\n",
       "    <tr>\n",
       "      <th>1</th>\n",
       "      <td>1423434</td>\n",
       "      <td>5</td>\n",
       "      <td>2012-04-29</td>\n",
       "      <td>Best italian food ever! Ciopinno is amazing!</td>\n",
       "    </tr>\n",
       "    <tr>\n",
       "      <th>2</th>\n",
       "      <td>1424172</td>\n",
       "      <td>3</td>\n",
       "      <td>2012-03-01</td>\n",
       "      <td>Went their for lunch and had a pleasant meal. ...</td>\n",
       "    </tr>\n",
       "    <tr>\n",
       "      <th>3</th>\n",
       "      <td>1424888</td>\n",
       "      <td>5</td>\n",
       "      <td>2013-08-04</td>\n",
       "      <td>Aldo's has become an anniversary tradition for...</td>\n",
       "    </tr>\n",
       "    <tr>\n",
       "      <th>4</th>\n",
       "      <td>1426761</td>\n",
       "      <td>4</td>\n",
       "      <td>2013-08-04</td>\n",
       "      <td>We stumbled upon Aldo's on a recent trip to SB...</td>\n",
       "    </tr>\n",
       "  </tbody>\n",
       "</table>\n",
       "</div>"
      ],
      "text/plain": [
       "       rid  stars        date  \\\n",
       "0  1423270      2  2012-05-29   \n",
       "1  1423434      5  2012-04-29   \n",
       "2  1424172      3  2012-03-01   \n",
       "3  1424888      5  2013-08-04   \n",
       "4  1426761      4  2013-08-04   \n",
       "\n",
       "                                                text  \n",
       "0  We tried to go to Blue Owl's soft opening, but...  \n",
       "1       Best italian food ever! Ciopinno is amazing!  \n",
       "2  Went their for lunch and had a pleasant meal. ...  \n",
       "3  Aldo's has become an anniversary tradition for...  \n",
       "4  We stumbled upon Aldo's on a recent trip to SB...  "
      ]
     },
     "execution_count": 1,
     "metadata": {},
     "output_type": "execute_result"
    }
   ],
   "source": [
    "import pandas as pd\n",
    "with open('AldosItalian.csv', 'r', encoding='utf-8') as file:\n",
    "    df = pd.read_csv(file)\n",
    "df.head()"
   ]
  },
  {
   "cell_type": "code",
   "execution_count": 2,
   "id": "f70de07c",
   "metadata": {},
   "outputs": [
    {
     "data": {
      "text/plain": [
       "9152"
      ]
     },
     "execution_count": 2,
     "metadata": {},
     "output_type": "execute_result"
    }
   ],
   "source": [
    "len((''.join(df.iloc[:,3])).split()) #Total number of words. Exceeds NLP summarizer model limits, so have to break into chunks."
   ]
  },
  {
   "cell_type": "code",
   "execution_count": 3,
   "id": "54f247ca",
   "metadata": {},
   "outputs": [
    {
     "data": {
      "image/png": "[encoded data removed]",
      "text/plain": [
       "<Figure size 400x300 with 1 Axes>"
      ]
     },
     "metadata": {},
     "output_type": "display_data"
    }
   ],
   "source": [
    "import matplotlib.pyplot as plt\n",
    "plt.figure(figsize=(4, 3))\n",
    "plt.hist(df['stars'],align='mid')\n",
    "plt.ylabel('Number of reviews')\n",
    "plt.xlabel('Average rating')\n",
    "plt.xticks([1.2, 2, 3.2, 4, 4.8], ['1', '2', '3', '4', '5'])\n",
    "plt.show() #Looks like a good mix of 1,2,3,4 and 5 ratings. Perfect for our study"
   ]
  },
  {
   "cell_type": "code",
   "execution_count": 42,
   "id": "74e28f7c",
   "metadata": {},
   "outputs": [
    {
     "name": "stdout",
     "output_type": "stream",
     "text": [
      "Requirement already satisfied: transformers in c:\\users\\dhrub\\anaconda3\\lib\\site-packages (4.32.1)\n",
      "Requirement already satisfied: filelock in c:\\users\\dhrub\\anaconda3\\lib\\site-packages (from transformers) (3.9.0)\n",
      "Requirement already satisfied: huggingface-hub<1.0,>=0.15.1 in c:\\users\\dhrub\\anaconda3\\lib\\site-packages (from transformers) (0.15.1)\n",
      "Requirement already satisfied: numpy>=1.17 in c:\\users\\dhrub\\anaconda3\\lib\\site-packages (from transformers) (1.24.3)\n",
      "Requirement already satisfied: packaging>=20.0 in c:\\users\\dhrub\\anaconda3\\lib\\site-packages (from transformers) (23.1)\n",
      "Requirement already satisfied: pyyaml>=5.1 in c:\\users\\dhrub\\anaconda3\\lib\\site-packages (from transformers) (6.0)\n",
      "Requirement already satisfied: regex!=2019.12.17 in c:\\users\\dhrub\\anaconda3\\lib\\site-packages (from transformers) (2022.7.9)\n",
      "Requirement already satisfied: requests in c:\\users\\dhrub\\anaconda3\\lib\\site-packages (from transformers) (2.31.0)\n",
      "Requirement already satisfied: tokenizers!=0.11.3,<0.14,>=0.11.1 in c:\\users\\dhrub\\anaconda3\\lib\\site-packages (from transformers) (0.13.2)\n",
      "Requirement already satisfied: safetensors>=0.3.1 in c:\\users\\dhrub\\anaconda3\\lib\\site-packages (from transformers) (0.3.2)\n",
      "Requirement already satisfied: tqdm>=4.27 in c:\\users\\dhrub\\anaconda3\\lib\\site-packages (from transformers) (4.65.0)\n",
      "Requirement already satisfied: fsspec in c:\\users\\dhrub\\anaconda3\\lib\\site-packages (from huggingface-hub<1.0,>=0.15.1->transformers) (2023.4.0)\n",
      "Requirement already satisfied: typing-extensions>=3.7.4.3 in c:\\users\\dhrub\\anaconda3\\lib\\site-packages (from huggingface-hub<1.0,>=0.15.1->transformers) (4.7.1)\n",
      "Requirement already satisfied: colorama in c:\\users\\dhrub\\anaconda3\\lib\\site-packages (from tqdm>=4.27->transformers) (0.4.6)\n",
      "Requirement already satisfied: charset-normalizer<4,>=2 in c:\\users\\dhrub\\anaconda3\\lib\\site-packages (from requests->transformers) (2.0.4)\n",
      "Requirement already satisfied: idna<4,>=2.5 in c:\\users\\dhrub\\anaconda3\\lib\\site-packages (from requests->transformers) (3.4)\n",
      "Requirement already satisfied: urllib3<3,>=1.21.1 in c:\\users\\dhrub\\anaconda3\\lib\\site-packages (from requests->transformers) (1.26.16)\n",
      "Requirement already satisfied: certifi>=2017.4.17 in c:\\users\\dhrub\\anaconda3\\lib\\site-packages (from requests->transformers) (2023.7.22)\n"
     ]
    }
   ],
   "source": [
    "!pip install transformers"
   ]
  },
  {
   "cell_type": "code",
   "execution_count": 43,
   "id": "3aa486d5",
   "metadata": {},
   "outputs": [
    {
     "name": "stdout",
     "output_type": "stream",
     "text": [
      "Aldo's put a huge damper on our first night in Santa Barbara.  The menu tempted us with its description of  filet mignon \"medallions\" and mashed potatoes.  Who doesn't love a good steak?  We were optimistic when the bread and dipping oil was very tasty, but that is where things took a bad turn.  Our steak was looked and tasted like no filet mignon we've ever tasted before.  It was tough and grotesquely shaped, it was giant balls of gross drowned in a brown sauce that didn't  help matters.  No good steak needs to be drowned a sauce.  The mashed potatoes I thought were just not whipped enough, because the consistency was too chunky, but it seemed they were reheated, the way they stayed smashed together in a lump when you put your fork into it, like mashed potatoes the day after Thanksgiving.  They took 20% off our tab when they saw I hardly touched my food and asked if there was a  problem.  We were polite about it, but honest, hoping the owners take their customer's feedback seriously.  If this place wasn't on the main tourist strip, it would be empty.  We went the next day to that chain family joint on the beach, had fish tacos and a turkey burger and how I wished we had eaten there instead of Aldo's.  I hope they read yelp and make some serious changes in their kitchen.\n"
     ]
    }
   ],
   "source": [
    "print(df.iloc[10,3]) #Print one review as a test"
   ]
  },
  {
   "cell_type": "code",
   "execution_count": 4,
   "id": "ab058363",
   "metadata": {},
   "outputs": [
    {
     "data": {
      "application/vnd.jupyter.widget-view+json": {
       "model_id": "8f2946ddeebc4a39bce22483e246cbf1",
       "version_major": 2,
       "version_minor": 0
      },
      "text/plain": [
       "Downloading config.json:   0%|          | 0.00/1.58k [00:00<?, ?B/s]"
      ]
     },
     "metadata": {},
     "output_type": "display_data"
    },
    {
     "name": "stderr",
     "output_type": "stream",
     "text": [
      "C:\\Users\\dhrub\\anaconda3\\Lib\\site-packages\\huggingface_hub\\file_download.py:133: UserWarning: `huggingface_hub` cache-system uses symlinks by default to efficiently store duplicated files but your machine does not support them in C:\\Users\\dhrub\\.cache\\huggingface\\hub. Caching files will still work but in a degraded version that might require more space on your disk. This warning can be disabled by setting the `HF_HUB_DISABLE_SYMLINKS_WARNING` environment variable. For more details, see https://huggingface.co/docs/huggingface_hub/how-to-cache#limitations.\n",
      "To support symlinks on Windows, you either need to activate Developer Mode or to run Python as an administrator. In order to see activate developer mode, see this article: https://docs.microsoft.com/en-us/windows/apps/get-started/enable-your-device-for-development\n",
      "  warnings.warn(message)\n"
     ]
    },
    {
     "data": {
      "application/vnd.jupyter.widget-view+json": {
       "model_id": "27e66acb408049c28382dc65ff19967e",
       "version_major": 2,
       "version_minor": 0
      },
      "text/plain": [
       "Downloading model.safetensors:   0%|          | 0.00/1.63G [00:00<?, ?B/s]"
      ]
     },
     "metadata": {},
     "output_type": "display_data"
    },
    {
     "data": {
      "application/vnd.jupyter.widget-view+json": {
       "model_id": "9cfb6b6321104dfa9b026a564225261f",
       "version_major": 2,
       "version_minor": 0
      },
      "text/plain": [
       "Downloading generation_config.json:   0%|          | 0.00/363 [00:00<?, ?B/s]"
      ]
     },
     "metadata": {},
     "output_type": "display_data"
    },
    {
     "data": {
      "application/vnd.jupyter.widget-view+json": {
       "model_id": "4c843492cb504d3c857dabbb79d9b579",
       "version_major": 2,
       "version_minor": 0
      },
      "text/plain": [
       "Downloading vocab.json:   0%|          | 0.00/899k [00:00<?, ?B/s]"
      ]
     },
     "metadata": {},
     "output_type": "display_data"
    },
    {
     "data": {
      "application/vnd.jupyter.widget-view+json": {
       "model_id": "9962d408c37848cda545c13c22565e43",
       "version_major": 2,
       "version_minor": 0
      },
      "text/plain": [
       "Downloading merges.txt:   0%|          | 0.00/456k [00:00<?, ?B/s]"
      ]
     },
     "metadata": {},
     "output_type": "display_data"
    },
    {
     "data": {
      "application/vnd.jupyter.widget-view+json": {
       "model_id": "feab779b655a4f33926898eeec63e57f",
       "version_major": 2,
       "version_minor": 0
      },
      "text/plain": [
       "Downloading tokenizer.json:   0%|          | 0.00/1.36M [00:00<?, ?B/s]"
      ]
     },
     "metadata": {},
     "output_type": "display_data"
    },
    {
     "name": "stdout",
     "output_type": "stream",
     "text": [
      "[0, 1, 2, 3, 4, 5, 6, 7, 8, 9, 10, 11, 12, 13, 14, 15, 16, 17, 18, 19, 20, 21, 22, 23, 24, 25, 26, 27, 28, 29, 30, 31, 32, 33, 34, 35, 36, 37, 38, 39, 40, 41, 42, 43, 44, 45, 46, 47, 48, 49, 50, 51, 52, 53, 54, 55, 56, 57, 58, 59, 60, 61, 62, 63, 64, 65, 66, 67, 68, 69, 70, 71, 72, 73, 74, 75, 76, 77, 78, 79, 80]\n",
      "2\n",
      "425\n",
      "The food was slightly better than national chain such as Olive Garden, but far from being good authentic Italian. The pan sauteed salmon was served with a olive caper tomato sauce and rested on top of shaved squash and carrots. The flat iron steak was cooked to a medium rare, relatively tender (for the price, you can't expect tenderloin or ribeye), and topped with flavorful mushroom, pepper, onion, blue cheese, and chimichurri sauce. The fries was the typical frozen food supplier variety. It was fine as a side, but nothing memorable and definitely not worth ordering from the appetizer menu. I have to advice against ordering desserts at $8, and It didn't look like it was made in house.\n",
      "5\n",
      "7\n",
      "Best italian food ever! Ciopinno is amazing!\n",
      "3\n",
      "46\n",
      "Went their for lunch and had a pleasant meal. Was surprised to learn that their was a 20% mandatory service charge for the waiter. Sorry, but I don't like to be told what to tip. I will never be going back here for that very reason.\n",
      "5\n",
      "94\n",
      "The ambiance is great, combined with fantastic food and service. Has a great feeling of a family owned business, the type that you want to support and I hope they are there for a very long time.\n",
      "4\n",
      "33\n",
      "We stumbled upon Aldo's on a recent trip to SB. Caesar Salad , mussels, Angel hair Pomadoro all delicious.Great change of pace than seafood and Mexican.The courtyard is charming and the prices reasonable.\n",
      "5\n",
      "68\n",
      "Aldos has improved dramatically since Brad bought the place a few years ago. The food and service are consistently excellent. There is even gluten-free pasta\n",
      "2\n",
      "169\n",
      "The food was not great and definitely not worth the price. The waiter wasn't great, and it took a while for our salads to come out. I don't live in Santa Barbara anymore, but when I go back to visit, this will not be one of the places I'll eat.\n",
      "5\n",
      "226\n",
      "This is my new favorite Italian place in Santa Barbara. They cut up the basil so that it's more like a salad which was different, but made it easy to eat. The setting is nice too for a romantic date and for a nice, relaxing dinner. I will definitely go back again and recommend it highly for nice and not too expensive (like other Italian places in SB) Italian food.\n",
      "4\n",
      "23\n",
      "I love this restaurant! Great food, nice ambiance. I especially like the Kale salad. Try it out it won't disappoint . . .\n",
      "4\n",
      "51\n",
      "I go here nearly every time I go to downtown Santa Barbara (mind you, that's not often) but every time has been very good. They have great pasta and great pizza. They are a little on the pricey side, but when I got to places like this, I expect pricey anyways.\n",
      "1\n",
      "235\n",
      "The menu tempted us with its description of filet mignon \"medallions\" and mashed potatoes. Our steak was tough and grotesquely shaped, it was giant balls of gross drowned in a brown sauce. The mashed potatoes I thought were just not whipped enough, because the consistency was too chunky. They took 20% off our tab when they saw I hardly touched my food and asked if there was a problem.\n",
      "3\n",
      "258\n",
      "It's a nice location right on State Street, and the restaurant features an outdoor patio. The place was practically empty when my girlfriend and I walked in. The bread was on the stale side, though great to dunk into the elixir of olive oil, fresh garlic, and parmesan shavings. The spumoni we shared (cuz, hey, Lydia's from Jersey!) went down easy, but overall there wasn't much wow to the food.\n",
      "1\n",
      "125\n",
      "The chicken parmigiana I ordered was so dark and oily - it was completely disgusting. The service wasn't terrible, but it was the kind of place where you're very aware of what you need at all times. Just don't Trust.\n",
      "4\n",
      "160\n",
      "Aldo's was the only italian restaurant my parents wanted to go to every weekend. I really enjoyed the caesar salad. The chicken/pesto raviolli was OK. The sauce was very lemony and sour, but the chicken was better.\n",
      "1\n",
      "15\n",
      "Creepy and crappy. Bland and tasteless. Pizza crust like frozen pie. Bad choice, keep looking\n",
      "4\n",
      "41\n",
      "Had the shrimp and calamari in puttanesca sauce for an appetizer--5 stars. The salmon cilantro was four stars, not as fresh as the shrimp. Prices were reasonable for a nice dining experience on the patio on a gorgeous Santa Barbara evening.\n",
      "4\n",
      "79\n",
      "Restaurant completely packed. Daughter had the farmers salad with grilled chicken....super delicious. I had the red snapper special. Can't imagine the bad reviews.\n",
      "3\n",
      "17\n",
      "It was good. The food did not leave a huge lasting impression, but I like the atmosphere.\n",
      "1\n",
      "231\n",
      "We tried this place on Sunday night, around 7:30 p.m. Normally we enjoy hearing harp music, but this was gratingly loud. The soups we ordered were very good in flavor, but served lukewarm. With service and ambiance like we experienced, we definitely won't go back on future trips to Santa Barbara, and will not recommend it to anyone.\n",
      "3\n",
      "25\n",
      "I went this place for lunch and used groupon. We ordered steak/pork chop/soup. It was good, but waitress were rude. Nice place and resonable place.\n",
      "5\n",
      "318\n",
      "The food and ambience were perfect! A terrific location with both an inside and outside eating area. The wine list is not extensive but my Daniel Gehrs Syrah was superb and well priced. My kids enjoyed coloring the kids menu which came with crayons (unusual for a higher-end Italian experience) For dessert, they served my girls McConnell's ice cream with a few special touches of cherries and whipped cream.....and the adults enjoyed the Creme Brullee. YUM! We'll be back with guests and look forward to telling our Santa Barbara family in hopes that they'll return to this romantic but family-oriented gem!\n",
      "2\n",
      "31\n",
      "Skip this restaurant. The Caesar salad had little flavor and the ravioli that I had as an entree was pre bought and were flavorless as well. Go to trattoria Vitoria instead.\n",
      "2\n",
      "186\n",
      "The dinner bread they brought to the table was stale. The pasta isn't made in-house. To top it all off, the prices are obscene for the quality of food. I could name 20 restaurants within walking distance from Aldo's that you will have a better meal at, but you have Yelp! and can figure it out on your own :)\n",
      "1\n",
      "385\n",
      "The pasta was bland, the meatball was yucky, the seafood taste frozen, overall I would rather eat cafeteria pasta than these. They are charging us 18% service fees for having a party of 5. And they also charged us for TEA because they brought some hot water to us. There are many reviews saying there are new owners, but seeing all the 1-star and 5-star \"new owner\" reviews crisscrossing each other, I highly doubt it. The note for everyone is: read Yelp and find a better restaurant, otherwise if you have money and want to get gouged come here. It wasn't written anywhere in the menu or restaurant nor did they mention to us beforehand.\n",
      "1\n",
      "196\n",
      "AlDO's Restaurant in Santa Barbara is known for its fine dining. This Restaurant ruined the end of a great mother - daughter weekend for a large group to eat there. When we got the bill ours \"special\" price was that each plate was double the price of the item on the regular menu!!! What a ripe off!! Plus at our table of seven where we received poor service &'warm water, our waitress had added a $58 tip.\n",
      "1\n",
      "178\n",
      "The potatoes were clearly several days old. The bread was flavorless and the olive oil tasted off. The filet was mediocre and the only nice thing I can say about the sauce is that it helped mask the offensive flavors of the side dishes. We both left with a stomach ache that cost us $90.\n",
      "4\n",
      "18\n",
      "Yummy neighborhood restaurant, in the middle of downtown. The food is tasty and clean, good ingredients. Pleasant atmosphere.\n",
      "2\n",
      "114\n",
      "This was my first visit to Aldo's under its current owner. I had some kind of pasta in \"pesto\" sauce which was actually pasta drowning in a little pesto and a lot of lemon. The bread basket they placed on our table was kinda dry\n",
      "4\n",
      "44\n",
      "I have found the food to be quite delicious on my visits there. I have had the pasta del mar (or something close to that name) which is exquisite, as well as the spaghetti and meatballs which is pretty good. I would highly recommend\n",
      "5\n",
      "14\n",
      "love the new menu .brad has done a great job making locals feel welcome.\n",
      "2\n",
      "19\n",
      "This place is just like olive garden. carbs drenched in olive oil and tomatoes- just hasn't been franchised yet.\n",
      "5\n",
      "105\n",
      "I don't know why this place has some bad reviews - I went here with my family on the 4th of July from out of town and there were 6 of us with some picky eaters. We all really enjoyed everything - in fact\n",
      "4\n",
      "19\n",
      "Dinner was terrific, the server was friendly and efficient and the patio was charming. The price was right too!\n",
      "2\n",
      "194\n",
      "A friend picked this place for dinner and although I read the reviews on Yelp that weren't too pleasant, I went into this place very positive and open minded. You never know, maybe people have high standards and the restaurant is actually really good? I have to say the service was pretty good. We got a table without a reservation as soon as we got there. I'm not really sure how anyone could like the food at this place.\n",
      "1\n",
      "93\n",
      "The appetizer came out and the ravioli was frozen! My girlfriend and I split the linguine and meatballs which tasted like cheap grocery store marinara with packaged noodles and a semi warm meatball on\n",
      "1\n",
      "291\n",
      "My Boyfriend and I spent our two year anniversary in Santa Barbara this year, and were super excited to try Aldo's. By the time we left the restaurant it was full blown food poisoning for me. Needless to say, we will NEVER be returning to this place again, nor would we wish it on our worst enemy. Good riddance Aldos. Unless you feel like spending your weekend with food poisoning, STAY AWAY! My salmon was drenched in sauce, I can only assume after the fact to hide it's rotten taste, because I wasn't even half way through it and I felt TERRIBLE.\n",
      "1\n",
      "29\n",
      "Terrible service. Took an hour honestly for our food to be made. They made it seem like they didnt want to serve us breat. Poor experience, go somewere else\n",
      "3\n",
      "18\n",
      "Don't get the steak... My replacement dish was good and the staff was extremely nice... especially the owner.\n",
      "5\n",
      "27\n",
      "Good services, good food (give the parm fries a try!), and gotta love the outdoor patio seating. A little on the expensive side, but worth the patio.\n",
      "2\n",
      "123\n",
      "I really wanted to like this place because they give back to the community, which I appreciate. We were there on a Tuesday and it was basically empty. I fear for restaurants like this that have mediocre food and high prices.\n",
      "5\n",
      "82\n",
      "The sauce with the mussels was amazing! We also had crab cakes, scallops and a fettucini. The only thing negative I could say is I didn't love my\n",
      "1\n",
      "15\n",
      "I don't like giving bad reviews, but the food just wasn't very good at all.\n",
      "1\n",
      "115\n",
      "The service was mediocre at best. The food was not good. The salad seemed like it came from a bag (not fresh), dressing also not homemade, and if it was, they need a new recipe. Overall the experience was bad.\n",
      "3\n",
      "75\n",
      "Showed up right when they were opening for lunch. Sign said to pick a seat. Watied over 5 minutes for anyone to greet us. Ordered the blackened chicken\n",
      "2\n",
      "170\n",
      "The steak was cooked nicely, but the \"chimichuri\" was on the side so did not impart any flavor and didn't taste like chimichuri. The topping on the steak didn't go with the dish. But, more importantly, DON'T order the scallops. They were awful.\n",
      "1\n",
      "144\n",
      "The owner of this restaurant loves to charge any type of extra fee he can. They charge $15 for sharing a plate, they charge 18% gratuity for a party of 4 or more, they gave us extra plates and got charged $18, we brought our own champagne and glasses and serviced and cleaned up by us not the employees we\n",
      "1\n",
      "84\n",
      "Ravioli Rosa was swimming in this overly salty broth, instead of sauce. Not once did the hostess checked back on us on how our food is.\n",
      "3\n",
      "74\n",
      "Service was inviting and efficient. Atmosphere is nice and ambiance was charming. Ordered three dinner entrees and a bottle of wine for a group five.\n",
      "5\n",
      "77\n",
      "I have a super soft spot in my heart for Aldo's. Its very romantic atmosphere, good food, and helpful servers get me. Their olive oil that they serve with\n",
      "1\n",
      "133\n",
      "Horrible waitress... She told us she would charge us $15 to split a plate if anyone wanted to share a dish. I could tell she was from. the east coast... She was blunt and came across as rude.\n",
      "5\n",
      "200\n",
      "The food is excellent, the ambiance is delightful, both in the courtyard and indoors, the service is attentive without giving you the sense of being invaded or hovered over. The new owner has worked very hard at listening to the feedback and making any necessary improvements. Someone who had a less-than-stellar experience six months ago will find a meal, atmosphere, and service that they will not be able to badmouth now.\n",
      "4\n",
      "64\n",
      "The seafood linguine was the special of the night. An appetizer, entree, and two drinks came out to be about $50 with\n",
      "5\n",
      "106\n",
      "My husband even hates Italian food but he wanted to eat here because it was so lovely with the waterfall, heaters, and soft lounge music. The food was really good, so good my husband liked it. We had the tiramisu for desert\n",
      "4\n",
      "23\n",
      "Great service and excellent food. I don\"t understand all the negative reviews. We had a great time. Oh..ok, the bread was just average.\n",
      "2\n",
      "151\n",
      "The bread is straight off the shelf of Ralph's, and the olive oil with garlic is 100% pure garlic. The pasta and salad is perhaps on par or worse than the bloody mary. I wish I had read the reviews before coming, so hopefully you'll take my word for it.\n",
      "4\n",
      "44\n",
      "I don't know what previous reviews are talking aobut regarding the bread and olive oil. It was fantastic - I absolutely loved the garlic and the bread was scrumptious. Our meals were also delicious, the staff was great and we had an wonderful lunch.\n",
      "2\n",
      "78\n",
      "Palazzio is a small Italian restaurant on State St. The portions are huge and the atmosphere is fun and not claustrophobic.\n",
      "1\n",
      "200\n",
      "Purchased a coupon through TravelZoo and didn't use it in time for the offer. Paid $50 for $100 of food and a bottle of wine. Manager said since it was a Saturday i couldnt redeem what i paid for!! WTH???? The waitstaff and MANAGER (Females) seemed to be prejudice.\n",
      "1\n",
      "163\n",
      "I was recently at this restaurant with my family for my mothers birthday. I had been warned that the service wasn't that great, but I had made the mistake of purchasing online coupons prior to going there. It was brought to my attention that I couldn't use both the voucher and coupon during the same visit which is understandable, but the attitude I received from Megan their manager on duty, was very\n",
      "3\n",
      "98\n",
      "Steak in rare was perfectly cooked and fries were well seasoned. Ravioli rosa was good with addon of scallops. Sword fish soup was also good. However, with the groupon purchase, the \"service charge\n",
      "4\n",
      "105\n",
      "My GF and i are in town on a mini vacation and stopped by here for an early dinner. It was very good. The bread was fresh and warm, the oil for dipping was excellent,tons of garlic and hi grade olive oil.\n",
      "4\n",
      "111\n",
      "My best friend and I stopped by here for a quick lunch. I was rather disappointed with my $6 glass of moscato. I also enjoyed their tiramisu. I believe it was $13.95 for my entree.\n",
      "1\n",
      "8\n",
      "TERRIBLE service, very overpriced and average quality food\n",
      "5\n",
      "181\n",
      "We hosted the rehearsal dinner for our son and daughter in law on June 25th. The communication with the owners was very cordial and accomodating. We hosted 50 guests which was a perfect number for the venue. Everyone enjoyed their dinner and the staff was delightful. Thanks to Aldo's for creating a wonderful event for us.\n",
      "5\n",
      "29\n",
      "We had gone there for dinner.. I would recommend those to whoever visits Santa Barbara.. Loved the food, great taste and very good service.. Will surely be going again....\n",
      "4\n",
      "48\n",
      "The food here was good and arrived on time even though the restaurant was very busy. We sat in the courtyard under the string of tiny lights. Our waiter was attentive and was able to answer any questions we had about the menu. We would definitely return here.\n",
      "3\n",
      "40\n",
      "Food is great at first, but later will become too greasy and salty. They charge mandatory service fee at 18%. The server also did not tell us the soup for side dish has different price mark when he recommended them.\n",
      "5\n",
      "18\n",
      "Honest to god had the best fettuccine Alfredo! Also their chocolate raspberry brownie dessert is to die for!!!!!\n",
      "4\n",
      "418\n",
      "Aldo's has a cute little outdoor patio that seemed to be filling up around the 1 o'clock hour. I opted for the Caprese panini with a side salad and the quality of the cheese, basil and tomato were definitely above average considering the reasonable lunch price. Minus one star, though, for having to walk in to the kitchen to use the restrooms-it detracted a bit from the experience. All in all, not a bad lunch option on State Street-clean space, fresh ingredients and friendly service. The olive oil dipping sauce was pretty amazing-I ended up dipping some of my sandwhich in to it-mmmm.... The fries were seriously addicting and some of the best fries I've had in a while.\n",
      "1\n",
      "65\n",
      "The service was extremely poor. The waiter spent his time chatting to a british couple apparently amazed by their accent. My food was cold and\n",
      "4\n",
      "261\n",
      "Aldo's gives you a discount if you show that you took the train. In the restroom there is not a big mirror, only two little ones. The food was OK. We had a linguine Bolognese. The funny part is that my boy was so hungry, that when the waitress comes, he says \"Fries!!!\" and so he had them, lots of them. The only thing is that I ordered a glass of wine and never got it.\n",
      "4\n",
      "33\n",
      "Stopped there for a late night bite. What a find. Scrumptious veggie pizza and crab cakes on the side. Service was exemplary. I would ask for a booth next time though. Romantic spot.\n",
      "4\n",
      "18\n",
      "Had dinner here tonight, prices were high but our food was absolutely delicious!! We will definitely go back!\n",
      "4\n",
      "91\n",
      "Parmesan fries were unfreaking believable. The meatball linguini was decent. Price was about what you'd expect from this sort of place. Would definitely consider going back.\n",
      "4\n",
      "79\n",
      "Great, cozy ambience with indoor and outdoor seating. Tasty, rich food and plenty of fresh bread. The hostess Sophie is the best!\n",
      "4\n",
      "83\n",
      "The service has always been good and it's always been very clean and the wait staff attentive. It's not going to blow you away but when you want to come to a place that's quiet\n",
      "3\n",
      "109\n",
      "The Marg. pizza was very disappointing. Too much cheese - and random pieces of yellow zucchini planted into about an inch of thick cheese. Salad was soggy and then discovered they had cut my bloody pasta up into small pieces and drowned it in\n",
      "3\n",
      "159\n",
      "My husband and I were only in Santa Barbara for one night and decided to stop here to eat after wandering up and down State Street. The service was prompt and attentive and the atmosphere was nice since we were sitting right beside the fountain. The only disappointments were the so-so bread and lack-luster and mediocre tiramisu.\n",
      "5\n",
      "8\n",
      "Love this place! The ciopinno is the best!\n",
      "3\n",
      "57\n",
      "Service was top notch, and the hostess was very sweet to us. For an expensive Italian restaurant I would say our main courses were just average but not necessarily worth the money. I can confirm the bread was some kind of joke, tasted like day old super market bread. Probably wont be back for a long time.\n",
      "1\n",
      "485\n",
      "It took our server about 15-20 mintues to just greet us and take our orders. Worst of all is when the server dropped off the soup. The bf grabbed the bowl from her before she completely let go because she placed it on his silverware. They took the fish out of the bill. I did not eat it after my one bite, I was super upset about the service. So Never AGAIN! How do they even get four stars? I just don't freaking get it. I thought it was me just upset since we waited an hour for our food. How can you do that after making me wait for 1 hour? I super upset, the waitress didn't offer to help me out too much, I just told her that this wait is unacceptable. She didn't apologize. Another person came along, I'm not sure who she is but I saw her servering other table but she apologized and asked if I wanted another dish, she even offered me dessert.\n"
     ]
    }
   ],
   "source": [
    "from transformers import pipeline\n",
    "#summarizer = pipeline(\"summarization\", model=\"mabrouk/amazon-review-summarizer-bart\")\n",
    "summarizer = pipeline(\"summarization\", model=\"facebook/bart-large-cnn\")\n",
    "#summarizer = pipeline(\"summarization\")\n",
    "#Go through each review and keep only the first 1000 words, then summarize it.\n",
    "summaries=''\n",
    "count=0\n",
    "import numpy as np\n",
    "indi=list()\n",
    "for j in range(len(df)): \n",
    "    star=df.iloc[j,1] \n",
    "    #if np.abs(star-3) <=1:\n",
    "    if np.abs(star)>0: #Include all reviews, 1 star through 5\n",
    "        indi.append(j)\n",
    "print(indi)\n",
    "revs=df.iloc[indi,3]\n",
    "sta=df.iloc[indi,1]\n",
    "#indi=df['stars'] == 3\n",
    "#revs=(df[][df.columns[3]])\n",
    "rr=revs.keys()\n",
    "\n",
    "for j in range(len(revs)):\n",
    "    count+=1\n",
    "    words = (revs[j]).split()  # Split the string into words\n",
    "    shortened= ' '.join(words[:800])\n",
    "    print(sta[j])\n",
    "    if len(words) > 60:\n",
    "        print(len(words))\n",
    "        maxx=int(np.round(len(words)/2))\n",
    "        minn=int(np.round(len(words)/3))\n",
    "        summary_output = summarizer(shortened, max_length=maxx, min_length=minn, do_sample=False)\n",
    "        print(summary_output[0]['summary_text'])\n",
    "        summaries += (summary_output[0]['summary_text'] + ' ')\n",
    "    else: #Review is already short, no need to summarize\n",
    "        print(len(words))\n",
    "        print(shortened)\n",
    "        summaries += shortened"
   ]
  },
  {
   "cell_type": "code",
   "execution_count": 5,
   "id": "97e09b12",
   "metadata": {},
   "outputs": [
    {
     "name": "stdout",
     "output_type": "stream",
     "text": [
      "I read some of the reviews below and was a bit afraid to venture back to Aldo's after ~5 year haitus.  But, thank goodness I did.  Perhaps it is improvements implemented by the recent change of owners or maybe there are crazy reviewers simply out to misrepresent this establishment....whatever the case, my wife, 2 kids, old family friend and I had the most amazing evening last night at Aldo's....the food and ambience were perfect!   A terrific location with both an inside and outside eating area.  I am a gourmet and wine enthusiast and found the food to be superb.  The wine list is not extensive but my Daniel Gehrs Syrah was superb and well priced.  We started with fresh, hot bread accompanied by extra virgin olive oil with slivers of garlic...DELICIOUS!  My kids enjoyed coloring the kids menu which came with crayons (unusual for a higher-end Italian experience) and my daughter's chicken fingers came with the most succulent shoestring fries.  It does seem that the menu focuses on sauces...all of which were superb.  I had the porkchops with savory cherry sauce...both unusual and excellent, my wife had the Salmon with cilantro-based dressing (the Salmon was perhaps the best cooked I have EVER had), our family friend enjoyed the best meal on the table...fettuccine di mare (with a sauce that I believe had a light dairy base) which was not too heavy but contained a flavorful sauce and ample amounts of fish, scallops, and shrimp.  For dessert, they served my girls McConnell's ice cream with a few special touches of cherries and whipped cream.....and the adults enjoyed the Creme Brullee.  YUM!  I grew up in Santa Barbara, loved Aldo's as a child, and feel like Aldo's has finally been renewed after some lack-luster years.  We'll be back with guests and look forward to telling our Santa Barbara family in hopes that they'll return to this romantic but family-oriented gem!\n"
     ]
    }
   ],
   "source": [
    "print(df.iloc[20,3])"
   ]
  }
 ],
 "metadata": {
  "kernelspec": {
   "display_name": "Python 3 (ipykernel)",
   "language": "python",
   "name": "python3"
  },
  "language_info": {
   "codemirror_mode": {
    "name": "ipython",
    "version": 3
   },
   "file_extension": ".py",
   "mimetype": "text/x-python",
   "name": "python",
   "nbconvert_exporter": "python",
   "pygments_lexer": "ipython3",
   "version": "3.11.5"
  }
 },
 "nbformat": 4,
 "nbformat_minor": 5
}
